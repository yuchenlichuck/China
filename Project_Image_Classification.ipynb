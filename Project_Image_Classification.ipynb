{
  "nbformat": 4,
  "nbformat_minor": 0,
  "metadata": {
    "colab": {
      "name": "Project_Image_Classification.ipynb",
      "provenance": [],
      "collapsed_sections": [],
      "toc_visible": true,
      "include_colab_link": true
    },
    "kernelspec": {
      "display_name": "Python 3",
      "language": "python",
      "name": "python3"
    },
    "language_info": {
      "codemirror_mode": {
        "name": "ipython",
        "version": 3
      },
      "file_extension": ".py",
      "mimetype": "text/x-python",
      "name": "python",
      "nbconvert_exporter": "python",
      "pygments_lexer": "ipython3",
      "version": "3.7.3"
    },
    "accelerator": "GPU",
    "widgets": {
      "application/vnd.jupyter.widget-state+json": {
        "7faabfa0760846a4bcb23d432dd69b66": {
          "model_module": "@jupyter-widgets/controls",
          "model_name": "HBoxModel",
          "state": {
            "_view_name": "HBoxView",
            "_dom_classes": [],
            "_model_name": "HBoxModel",
            "_view_module": "@jupyter-widgets/controls",
            "_model_module_version": "1.5.0",
            "_view_count": null,
            "_view_module_version": "1.5.0",
            "box_style": "",
            "layout": "IPY_MODEL_5c992cbb2c4e48d9aacfdbf84111c9b0",
            "_model_module": "@jupyter-widgets/controls",
            "children": [
              "IPY_MODEL_804e7093524e4bdf8db8a1485c7cd973",
              "IPY_MODEL_8c055a512ada4c90a913536ec5a8ca3b"
            ]
          }
        },
        "5c992cbb2c4e48d9aacfdbf84111c9b0": {
          "model_module": "@jupyter-widgets/base",
          "model_name": "LayoutModel",
          "state": {
            "_view_name": "LayoutView",
            "grid_template_rows": null,
            "right": null,
            "justify_content": null,
            "_view_module": "@jupyter-widgets/base",
            "overflow": null,
            "_model_module_version": "1.2.0",
            "_view_count": null,
            "flex_flow": null,
            "width": null,
            "min_width": null,
            "border": null,
            "align_items": null,
            "bottom": null,
            "_model_module": "@jupyter-widgets/base",
            "top": null,
            "grid_column": null,
            "overflow_y": null,
            "overflow_x": null,
            "grid_auto_flow": null,
            "grid_area": null,
            "grid_template_columns": null,
            "flex": null,
            "_model_name": "LayoutModel",
            "justify_items": null,
            "grid_row": null,
            "max_height": null,
            "align_content": null,
            "visibility": null,
            "align_self": null,
            "height": null,
            "min_height": null,
            "padding": null,
            "grid_auto_rows": null,
            "grid_gap": null,
            "max_width": null,
            "order": null,
            "_view_module_version": "1.2.0",
            "grid_template_areas": null,
            "object_position": null,
            "object_fit": null,
            "grid_auto_columns": null,
            "margin": null,
            "display": null,
            "left": null
          }
        },
        "804e7093524e4bdf8db8a1485c7cd973": {
          "model_module": "@jupyter-widgets/controls",
          "model_name": "FloatProgressModel",
          "state": {
            "_view_name": "ProgressView",
            "style": "IPY_MODEL_db6e77bc25614d6fb685def81a4cbc8d",
            "_dom_classes": [],
            "description": "",
            "_model_name": "FloatProgressModel",
            "bar_style": "info",
            "max": 1,
            "_view_module": "@jupyter-widgets/controls",
            "_model_module_version": "1.5.0",
            "value": 1,
            "_view_count": null,
            "_view_module_version": "1.5.0",
            "orientation": "horizontal",
            "min": 0,
            "description_tooltip": null,
            "_model_module": "@jupyter-widgets/controls",
            "layout": "IPY_MODEL_d55345415e124b9db132eacd4955b4a1"
          }
        },
        "8c055a512ada4c90a913536ec5a8ca3b": {
          "model_module": "@jupyter-widgets/controls",
          "model_name": "HTMLModel",
          "state": {
            "_view_name": "HTMLView",
            "style": "IPY_MODEL_bccc6a50b71947ac9b6531b3cb06c999",
            "_dom_classes": [],
            "description": "",
            "_model_name": "HTMLModel",
            "placeholder": "​",
            "_view_module": "@jupyter-widgets/controls",
            "_model_module_version": "1.5.0",
            "value": " 170500096/? [00:20&lt;00:00, 52238285.29it/s]",
            "_view_count": null,
            "_view_module_version": "1.5.0",
            "description_tooltip": null,
            "_model_module": "@jupyter-widgets/controls",
            "layout": "IPY_MODEL_8edf2534bfdc4d2893b67ab9aa2fa82a"
          }
        },
        "db6e77bc25614d6fb685def81a4cbc8d": {
          "model_module": "@jupyter-widgets/controls",
          "model_name": "ProgressStyleModel",
          "state": {
            "_view_name": "StyleView",
            "_model_name": "ProgressStyleModel",
            "description_width": "initial",
            "_view_module": "@jupyter-widgets/base",
            "_model_module_version": "1.5.0",
            "_view_count": null,
            "_view_module_version": "1.2.0",
            "bar_color": null,
            "_model_module": "@jupyter-widgets/controls"
          }
        },
        "d55345415e124b9db132eacd4955b4a1": {
          "model_module": "@jupyter-widgets/base",
          "model_name": "LayoutModel",
          "state": {
            "_view_name": "LayoutView",
            "grid_template_rows": null,
            "right": null,
            "justify_content": null,
            "_view_module": "@jupyter-widgets/base",
            "overflow": null,
            "_model_module_version": "1.2.0",
            "_view_count": null,
            "flex_flow": null,
            "width": null,
            "min_width": null,
            "border": null,
            "align_items": null,
            "bottom": null,
            "_model_module": "@jupyter-widgets/base",
            "top": null,
            "grid_column": null,
            "overflow_y": null,
            "overflow_x": null,
            "grid_auto_flow": null,
            "grid_area": null,
            "grid_template_columns": null,
            "flex": null,
            "_model_name": "LayoutModel",
            "justify_items": null,
            "grid_row": null,
            "max_height": null,
            "align_content": null,
            "visibility": null,
            "align_self": null,
            "height": null,
            "min_height": null,
            "padding": null,
            "grid_auto_rows": null,
            "grid_gap": null,
            "max_width": null,
            "order": null,
            "_view_module_version": "1.2.0",
            "grid_template_areas": null,
            "object_position": null,
            "object_fit": null,
            "grid_auto_columns": null,
            "margin": null,
            "display": null,
            "left": null
          }
        },
        "bccc6a50b71947ac9b6531b3cb06c999": {
          "model_module": "@jupyter-widgets/controls",
          "model_name": "DescriptionStyleModel",
          "state": {
            "_view_name": "StyleView",
            "_model_name": "DescriptionStyleModel",
            "description_width": "",
            "_view_module": "@jupyter-widgets/base",
            "_model_module_version": "1.5.0",
            "_view_count": null,
            "_view_module_version": "1.2.0",
            "_model_module": "@jupyter-widgets/controls"
          }
        },
        "8edf2534bfdc4d2893b67ab9aa2fa82a": {
          "model_module": "@jupyter-widgets/base",
          "model_name": "LayoutModel",
          "state": {
            "_view_name": "LayoutView",
            "grid_template_rows": null,
            "right": null,
            "justify_content": null,
            "_view_module": "@jupyter-widgets/base",
            "overflow": null,
            "_model_module_version": "1.2.0",
            "_view_count": null,
            "flex_flow": null,
            "width": null,
            "min_width": null,
            "border": null,
            "align_items": null,
            "bottom": null,
            "_model_module": "@jupyter-widgets/base",
            "top": null,
            "grid_column": null,
            "overflow_y": null,
            "overflow_x": null,
            "grid_auto_flow": null,
            "grid_area": null,
            "grid_template_columns": null,
            "flex": null,
            "_model_name": "LayoutModel",
            "justify_items": null,
            "grid_row": null,
            "max_height": null,
            "align_content": null,
            "visibility": null,
            "align_self": null,
            "height": null,
            "min_height": null,
            "padding": null,
            "grid_auto_rows": null,
            "grid_gap": null,
            "max_width": null,
            "order": null,
            "_view_module_version": "1.2.0",
            "grid_template_areas": null,
            "object_position": null,
            "object_fit": null,
            "grid_auto_columns": null,
            "margin": null,
            "display": null,
            "left": null
          }
        }
      }
    }
  },
  "cells": [
    {
      "cell_type": "markdown",
      "metadata": {
        "id": "view-in-github",
        "colab_type": "text"
      },
      "source": [
        "<a href=\"https://colab.research.google.com/github/yuchenlichuck/China/blob/master/Project_Image_Classification.ipynb\" target=\"_parent\"><img src=\"https://colab.research.google.com/assets/colab-badge.svg\" alt=\"Open In Colab\"/></a>"
      ]
    },
    {
      "cell_type": "markdown",
      "metadata": {
        "colab_type": "text",
        "id": "quHwuvnL_N9o"
      },
      "source": [
        "# Project 1: Image Classification"
      ]
    },
    {
      "cell_type": "markdown",
      "metadata": {
        "colab_type": "text",
        "id": "1JWfOd3AVO9J"
      },
      "source": [
        "## Task 0: Getting Started\n",
        "\n",
        "Read the getting started guide titled **\"Python for Deep Learning\"** and get familiar with Python and PyTorch. Read the provided code below and get familiar with the commands and their parameters to understand what the code is trying to do. We recommend to spend a fair amount of time to understand all the different parts of the code. This understanding will be important for this and future projects.\n",
        "\n",
        "The goal of this project is to implement the *“Hello World!”* program of deep learning: designing and training a network that performs image classification. The dataset we will be using is CIFAR10 which is a large set of images that are classified into 10 classes (airplane, bird, cat, etc.)."
      ]
    },
    {
      "cell_type": "markdown",
      "metadata": {
        "colab_type": "text",
        "id": "Wgsyd2YsVO9L"
      },
      "source": [
        "## Task 1:  Data Loading (10 points)\n",
        "Complete the **DataLoader** below which we will use to load images of the cifar10 dataset provided by torchvision. Your task is to normalize it by shifting and scaling it by a factor of 0.5. For the training set, introduce random transformations (e.g. flips) for data augmentation."
      ]
    },
    {
      "cell_type": "code",
      "metadata": {
        "colab_type": "code",
        "id": "EtxYeHjRVO9S",
        "colab": {
          "base_uri": "https://localhost:8080/",
          "height": 117,
          "referenced_widgets": [
            "7faabfa0760846a4bcb23d432dd69b66",
            "5c992cbb2c4e48d9aacfdbf84111c9b0",
            "804e7093524e4bdf8db8a1485c7cd973",
            "8c055a512ada4c90a913536ec5a8ca3b",
            "db6e77bc25614d6fb685def81a4cbc8d",
            "d55345415e124b9db132eacd4955b4a1",
            "bccc6a50b71947ac9b6531b3cb06c999",
            "8edf2534bfdc4d2893b67ab9aa2fa82a"
          ]
        },
        "outputId": "af77e5fa-9fd5-49b9-c4ad-66aaff7998b8"
      },
      "source": [
        "from __future__ import print_function, division\n",
        "\n",
        "import os\n",
        "import time\n",
        "import numpy as np\n",
        "\n",
        "import torch\n",
        "import torch.nn as nn\n",
        "import torch.optim as optim\n",
        "import torch.nn.functional as F\n",
        "from torch.optim import lr_scheduler\n",
        "import torchvision\n",
        "from torchvision import datasets, models, transforms\n",
        "from torch.utils.data.sampler import SubsetRandomSampler\n",
        "print(torch.__version__)\n",
        "from PIL import Image\n",
        "import matplotlib.pyplot as plt\n",
        "plt.ion()   # interactive mode\n",
        "\n",
        "# Data augmentation and normalization for training\n",
        "# Just normalization for testing\n",
        "\n",
        "\n",
        "data_transforms = {\n",
        "    'train': transforms.Compose([\n",
        "      # TODO: Task 1\n",
        "        #transforms.\n",
        "        transforms.RandomHorizontalFlip(),\n",
        "        transforms.RandomVerticalFlip(),\n",
        "\n",
        "        transforms.ToTensor(),\n",
        "        transforms.Normalize([0.485,0.456,0.406],[0.229,0.224,0.225])\n",
        "\n",
        "    ]),\n",
        "    'test': transforms.Compose([\n",
        "     # TODO: Task 1\n",
        "        transforms.ToTensor(),\n",
        "        transforms.Normalize([0.485,0.456,0.406],[0.229,0.224,0.225])\n",
        "    ])\n",
        "}\n",
        "\n",
        "# Load CIFAR10\n",
        "\n",
        "image_datasets = {x: torchvision.datasets.CIFAR10(root='./data', train=(x=='train'), download=True, transform=data_transforms[x]) for x in ['train', 'test']}\n",
        "dataloaders = {x: torch.utils.data.DataLoader(image_datasets[x], batch_size=4, shuffle=(x=='train'), num_workers=4) for x in ['train', 'test']}\n",
        "dataset_sizes = {x: len(image_datasets[x]) for x in ['train', 'test']}\n",
        "class_names = image_datasets['train'].classes\n",
        "\n",
        "# Move to GPU\n",
        "device = torch.device(\"cuda:0\" if torch.cuda.is_available() else \"cpu\")"
      ],
      "execution_count": null,
      "outputs": [
        {
          "output_type": "stream",
          "text": [
            "1.6.0+cu101\n",
            "Downloading https://www.cs.toronto.edu/~kriz/cifar-10-python.tar.gz to ./data/cifar-10-python.tar.gz\n"
          ],
          "name": "stdout"
        },
        {
          "output_type": "display_data",
          "data": {
            "application/vnd.jupyter.widget-view+json": {
              "model_id": "7faabfa0760846a4bcb23d432dd69b66",
              "version_minor": 0,
              "version_major": 2
            },
            "text/plain": [
              "HBox(children=(FloatProgress(value=1.0, bar_style='info', max=1.0), HTML(value='')))"
            ]
          },
          "metadata": {
            "tags": []
          }
        },
        {
          "output_type": "stream",
          "text": [
            "Extracting ./data/cifar-10-python.tar.gz to ./data\n",
            "Files already downloaded and verified\n"
          ],
          "name": "stdout"
        }
      ]
    },
    {
      "cell_type": "markdown",
      "metadata": {
        "colab_type": "text",
        "id": "uS6cR4RhVO9U"
      },
      "source": [
        "### Visualize a few images\n",
        "\n",
        "Let’s visualize a few training images so as to understand the data augmentations. The results should look like:\n",
        "\n",
        "<img src=\"https://i.imgur.com/Sa6l1go.png\" width=\"400\" align=\"left\">"
      ]
    },
    {
      "cell_type": "code",
      "metadata": {
        "colab_type": "code",
        "id": "xXSA5DDBVO9V",
        "colab": {
          "base_uri": "https://localhost:8080/",
          "height": 151
        },
        "outputId": "cc3572ee-79a3-425d-c1d5-5132f1c743be"
      },
      "source": [
        "# TODO Task 1:  Run this cell and try to understand the output of each step\n",
        "\n",
        "def imshow(inp, title=None):\n",
        "    \"\"\"Imshow for Tensor.\"\"\"\n",
        "    inp = inp.numpy().transpose((1, 2, 0))\n",
        "    mean = np.array([0.5, 0.5, 0.5])\n",
        "    std = np.array([0.5, 0.5, 0.5])\n",
        "    inp = std * inp + mean\n",
        "    inp = np.clip(inp, 0, 1)\n",
        "    plt.imshow(inp)\n",
        "    if title is not None:\n",
        "        plt.title(title)\n",
        "    plt.pause(0.001)  # pause a bit so that plots are updated\n",
        "\n",
        "# Get a batch of training data\n",
        "inputs, classes = next(iter(dataloaders['train']))\n",
        "\n",
        "# Make a grid from batch\n",
        "out = torchvision.utils.make_grid(inputs)\n",
        "\n",
        "imshow(out, title=[class_names[x] for x in classes])"
      ],
      "execution_count": null,
      "outputs": [
        {
          "output_type": "display_data",
          "data": {
            "image/png": "[encoded data removed]",
            "text/plain": [
              "<Figure size 432x288 with 1 Axes>"
            ]
          },
          "metadata": {
            "tags": [],
            "needs_background": "light"
          }
        }
      ]
    },
    {
      "cell_type": "markdown",
      "metadata": {
        "colab_type": "text",
        "id": "YmMMSK0TVO9L"
      },
      "source": [
        "## Task 2: Basic Networks (20 points)\n",
        "1. Create a Fully connected Network (FcNet) as follows in the Jupyter Notebook:\n",
        "```\n",
        "FcNet(\n",
        "  (fc1): Linear(in_features=3072, out_features=1024, bias=True)\n",
        "  (fc2): Linear(in_features=1024, out_features=400, bias=True)\n",
        "  (fc3): Linear(in_features=400, out_features=84, bias=True)\n",
        "  (fc4): Linear(in_features=84, out_features=10, bias=True)\n",
        ")\n",
        "```\n",
        "Train the FcNet for **3** epoches and record the training time and accuracy in your final report.\n",
        "\n",
        "2. Create a Convolutional Network (ConvNet) as follows in the Jupyter Notebook:\n",
        "```\n",
        "ConvNet(\n",
        "  (conv1): Conv2d(3, 6, kernel_size=(5, 5), stride=(1, 1))\n",
        "  (pool): MaxPool2d(kernel_size=2, stride=2, padding=0, dilation=1, ceil_mode=False)\n",
        "  (conv2): Conv2d(6, 16, kernel_size=(5, 5), stride=(1, 1))\n",
        "  (fc1): Linear(in_features=400, out_features=120, bias=True)\n",
        "  (fc2): Linear(in_features=120, out_features=84, bias=True)\n",
        "  (fc3): Linear(in_features=84, out_features=10, bias=True)\n",
        ")\n",
        "```\n",
        "Train the ConvNet for **3** epoches and record the training time and accuracy in your final report. \n",
        "\n",
        "*Use the default SGD optimizer ( lr=0.001, momentum=0.9) for training."
      ]
    },
    {
      "cell_type": "markdown",
      "metadata": {
        "colab_type": "text",
        "id": "1sKXg8fSVO9X"
      },
      "source": [
        "### Model training code "
      ]
    },
    {
      "cell_type": "code",
      "metadata": {
        "colab_type": "code",
        "id": "A_Y2cgPEVO9X",
        "colab": {}
      },
      "source": [
        "def train_model(model, criterion, optimizer, num_epochs=25, save_path='saved_weight.pth'):\n",
        "    since = time.time()\n",
        "\n",
        "    for epoch in range(num_epochs):\n",
        "        print('Epoch {}/{}'.format(epoch, num_epochs - 1))\n",
        "        print('-' * 10)\n",
        "\n",
        "        # Each epoch has a training and validation phase\n",
        "        for phase in ['train']:\n",
        "            if phase == 'train': model.train()  # Set model to training mode\n",
        "\n",
        "            running_loss = 0.0\n",
        "            running_corrects = 0\n",
        "\n",
        "            # Iterate over data.\n",
        "            for inputs, labels in dataloaders[phase]:\n",
        "                inputs = inputs.to(device)\n",
        "                labels = labels.to(device)\n",
        "\n",
        "                # zero the parameter gradients\n",
        "                optimizer.zero_grad()\n",
        "\n",
        "                # forward\n",
        "                # track history if only in train\n",
        "                with torch.set_grad_enabled(phase == 'train'):\n",
        "                    outputs = model(inputs)\n",
        "                    _, preds = torch.max(outputs, 1)\n",
        "                    loss = criterion(outputs, labels)\n",
        "\n",
        "                    # backward + optimize only if in training phase\n",
        "                    if phase == 'train':\n",
        "                        loss.backward()\n",
        "                        optimizer.step()\n",
        "\n",
        "                # statistics\n",
        "                running_loss += loss.item() * inputs.size(0)\n",
        "                running_corrects += torch.sum(preds == labels.data)\n",
        "\n",
        "            epoch_loss = running_loss / dataset_sizes[phase]\n",
        "            epoch_acc = running_corrects.double() / dataset_sizes[phase]\n",
        "\n",
        "            print('{} Loss: {:.4f} Acc: {:.4f}'.format(phase, epoch_loss, epoch_acc))\n",
        "    print()\n",
        "\n",
        "    time_elapsed = time.time() - since\n",
        "    print('Training complete in {:.0f}m {:.0f}s'.format(time_elapsed // 60, time_elapsed % 60))\n",
        "\n",
        "    torch.save(model.state_dict(), save_path)\n",
        "    return model"
      ],
      "execution_count": null,
      "outputs": []
    },
    {
      "cell_type": "markdown",
      "metadata": {
        "id": "d92n2oUD3SiY",
        "colab_type": "text"
      },
      "source": [
        "### Model test code "
      ]
    },
    {
      "cell_type": "code",
      "metadata": {
        "id": "kfIA35Y43SiY",
        "colab_type": "code",
        "colab": {}
      },
      "source": [
        "def test_model(model, load_path='saved_weight.pth'):    \n",
        "    # load the model weights\n",
        "    model.load_state_dict(torch.load(load_path))\n",
        "    \n",
        "    since = time.time()\n",
        "\n",
        "    for phase in ['test']:\n",
        "        if phase == 'test':\n",
        "            model.eval()   # Set model to evaluate mode\n",
        "\n",
        "        running_loss = 0.0\n",
        "        running_corrects = 0\n",
        "\n",
        "        # Iterate over data.\n",
        "        for inputs, labels in dataloaders[phase]:\n",
        "            inputs = inputs.to(device)\n",
        "            labels = labels.to(device)\n",
        "           \n",
        "\n",
        "            with torch.no_grad():\n",
        "                outputs = model(inputs)\n",
        "                _, preds = torch.max(outputs, 1)\n",
        "\n",
        "            # statistics\n",
        "            running_corrects += torch.sum(preds == labels.data)\n",
        "        epoch_acc = running_corrects.double() / dataset_sizes[phase]\n",
        "\n",
        "        print('{} Acc: {:.4f}'.format(phase, epoch_acc))\n",
        "\n",
        "    time_elapsed = time.time() - since\n",
        "    print('Testing complete in {:.0f}m {:.0f}s'.format(time_elapsed // 60, time_elapsed % 60))\n",
        "\n",
        "    return "
      ],
      "execution_count": null,
      "outputs": []
    },
    {
      "cell_type": "markdown",
      "metadata": {
        "colab_type": "text",
        "id": "tX6I8cqXFDMX"
      },
      "source": [
        "### 1) FC Network"
      ]
    },
    {
      "cell_type": "code",
      "metadata": {
        "colab_type": "code",
        "id": "rpompN92VO9d",
        "colab": {
          "base_uri": "https://localhost:8080/",
          "height": 340
        },
        "outputId": "3dc77f99-c3e5-41eb-e85b-2e2b8ddcce7b"
      },
      "source": [
        "# 1) Define a Fully Connected Neural Network\n",
        "class FcNet(nn.Module):\n",
        "    def __init__(self):\n",
        "        super(FcNet, self).__init__()\n",
        "        # TODO Task 2:  Define the layers \n",
        "        self.fc1=nn.Linear(3072,1024)\n",
        "        self.fc2=nn.Linear(1024,400)\n",
        "        self.fc3=nn.Linear(400,84)\n",
        "        self.fc4=nn.Linear(84,10)\n",
        "\n",
        "    def forward(self, x):\n",
        "        # TODO Task 2:  Define the forward pass\n",
        "#         x=F.relu(self.fc1(x))\n",
        "#         x=F.relu(self.fc2(x))\n",
        "#         x=F.relu(self.fc3(x))\n",
        "        x=x.view(x.size(0),-1)\n",
        "        x=self.fc1(x)\n",
        "        x=self.fc2(x)\n",
        "        x=self.fc3(x)\n",
        "        x=self.fc4(x)\n",
        "        return x\n",
        "\n",
        "    \n",
        "model_ft = FcNet() #Define the model\n",
        "model_ft = model_ft.to(device) \n",
        "print(model_ft)\n",
        "\n",
        "# TODO Task 2:  Define loss criterion - cross entropy loss\n",
        "criterion=nn.CrossEntropyLoss()\n",
        "# TODO Task 2:  Define Optimizer\n",
        "optimizer=optim.SGD(model_ft.parameters(),lr=0.001,momentum=0.9)\n",
        "# TODO Task 2:  Train the model\n",
        "train_model(model_ft,criterion,optimizer,3)\n",
        "# TODO Task 2:  Test the model\n",
        "test_model(model_ft)\n"
      ],
      "execution_count": null,
      "outputs": [
        {
          "output_type": "stream",
          "text": [
            "FcNet(\n",
            "  (fc1): Linear(in_features=3072, out_features=1024, bias=True)\n",
            "  (fc2): Linear(in_features=1024, out_features=400, bias=True)\n",
            "  (fc3): Linear(in_features=400, out_features=84, bias=True)\n",
            "  (fc4): Linear(in_features=84, out_features=10, bias=True)\n",
            ")\n",
            "Epoch 0/2\n",
            "----------\n",
            "train Loss: 1.9711 Acc: 0.3009\n",
            "Epoch 1/2\n",
            "----------\n",
            "train Loss: 1.9398 Acc: 0.3153\n",
            "Epoch 2/2\n",
            "----------\n",
            "train Loss: 1.9313 Acc: 0.3215\n",
            "\n",
            "Training complete in 2m 35s\n",
            "test Acc: 0.3390\n",
            "Testing complete in 0m 6s\n"
          ],
          "name": "stdout"
        }
      ]
    },
    {
      "cell_type": "markdown",
      "metadata": {
        "colab_type": "text",
        "id": "kFQdcJaKFF8y"
      },
      "source": [
        "### 2) CNN"
      ]
    },
    {
      "cell_type": "code",
      "metadata": {
        "colab_type": "code",
        "id": "ma36XwVfVO9h",
        "colab": {
          "base_uri": "https://localhost:8080/",
          "height": 374
        },
        "outputId": "3526bfa0-e152-4c4b-a488-5027ea5c2c5f"
      },
      "source": [
        "# 2) Define a Convolutional Neural Network\n",
        "class ConvNet(nn.Module):\n",
        "    def __init__(self):\n",
        "        super(ConvNet, self).__init__()\n",
        "        # TODO Task 2:  Define the CNN layers \n",
        "        self.conv1 = nn.Conv2d(3,6,5)\n",
        "        self.pool = nn.MaxPool2d(kernel_size=2, stride=2)\n",
        "        self.conv2 = nn.Conv2d(6,16,5)\n",
        "        self.fc1=nn.Linear(400,120)\n",
        "        self.fc2=nn.Linear(120,84)\n",
        "        self.fc3=nn.Linear(84,10)\n",
        "        \n",
        "        \n",
        "    def forward(self, x):\n",
        "        # TODO Task 2:  Define the forward pass\n",
        "        x=self.pool(F.relu(self.conv1(x)))\n",
        "        #x=F.max_pool2d(x,2)\n",
        "        x=self.pool(F.relu(self.conv2(x)))\n",
        "        x=x.view(-1,16*5*5)\n",
        "        x=F.relu(self.fc1(x))\n",
        "        x=F.relu(self.fc2(x))\n",
        "        x=self.fc3(x)\n",
        "        return x\n",
        "\n",
        "model_ft = ConvNet() #Define the model\n",
        "model_ft = model_ft.to(device)\n",
        "print(model_ft)\n",
        "\n",
        "# TODO Task 2:  Define loss criterion - cross entropy loss\n",
        "criterion=nn.CrossEntropyLoss()\n",
        "# TODO Task 2:  Define Optimizer\n",
        "optimizer=optim.SGD(model_ft.parameters(),lr=0.001,momentum=0.9)\n",
        "# TODO Task 2:  Train the model\n",
        "train_model(model_ft,criterion,optimizer,3)\n",
        "# TODO Task 2:  Test the model\n",
        "test_model(model_ft)"
      ],
      "execution_count": null,
      "outputs": [
        {
          "output_type": "stream",
          "text": [
            "ConvNet(\n",
            "  (conv1): Conv2d(3, 6, kernel_size=(5, 5), stride=(1, 1))\n",
            "  (pool): MaxPool2d(kernel_size=2, stride=2, padding=0, dilation=1, ceil_mode=False)\n",
            "  (conv2): Conv2d(6, 16, kernel_size=(5, 5), stride=(1, 1))\n",
            "  (fc1): Linear(in_features=400, out_features=120, bias=True)\n",
            "  (fc2): Linear(in_features=120, out_features=84, bias=True)\n",
            "  (fc3): Linear(in_features=84, out_features=10, bias=True)\n",
            ")\n",
            "Epoch 0/2\n",
            "----------\n",
            "train Loss: 1.7333 Acc: 0.3605\n",
            "Epoch 1/2\n",
            "----------\n",
            "train Loss: 1.4860 Acc: 0.4594\n",
            "Epoch 2/2\n",
            "----------\n",
            "train Loss: 1.4047 Acc: 0.4968\n",
            "\n",
            "Training complete in 2m 56s\n",
            "test Acc: 0.5016\n",
            "Testing complete in 0m 7s\n"
          ],
          "name": "stdout"
        }
      ]
    },
    {
      "cell_type": "markdown",
      "metadata": {
        "colab_type": "text",
        "id": "NMAIB0f8VO9M"
      },
      "source": [
        "## Task 3: Design Your Network I (20 points)\n",
        "Define your own Convolutional Network (MyNet) starting from the configuration in Task 2.2. Add following modifications and train the Network for **25** epoches. Keep the best settings for each step (for each step, record the training accuracy of the last epoch and test accuracy in your report):\n",
        "\n",
        "1. Modify the number of layers: Modify the number of convolutional layers and number of filters in the network. (Try at least 3 reasonable configurations)\n",
        "2. Modify the filter sizes in each convolutional layer. Experiment with different filter sizes (3x3, 5x5 and 7x7) or a combination of these.\n",
        "\n",
        "#### *Bonus Points: Define a validation set within the training set to monitor underfitting/overfitting after every epoch for each task. (Hint modify dataloaders and/or train_model function) "
      ]
    },
    {
      "cell_type": "markdown",
      "metadata": {
        "colab_type": "text",
        "id": "fkrcMarLVO9N"
      },
      "source": [
        "## Task 4: Design Your Network II (20 points)\n",
        "Keeping the best settings of Task 3, use **Dropout** in fully connected layers and Batch Normalization (choose a suitable batch size) in convolutional layers. Record the training accuracy of the last epoch and test accuracy in your report."
      ]
    },
    {
      "cell_type": "markdown",
      "metadata": {
        "id": "bGHOOg-J3Sij",
        "colab_type": "text"
      },
      "source": [
        "## Task 5: The Optimizer (20 points)\n",
        "Keeping the best settings of Task 4, 3 different optimizers (SGD, ADAM and RMSProp) with 3 different learning rates (0.001, 0.01, 0.1) . Plot the loss curves (Training loss vs Training step ) for the 9 cases (Hint: Modify the train_model fuction). "
      ]
    },
    {
      "cell_type": "markdown",
      "metadata": {
        "colab_type": "text",
        "id": "biQSr45WKS86"
      },
      "source": [
        "### Design Your Network"
      ]
    },
    {
      "cell_type": "code",
      "metadata": {
        "colab_type": "code",
        "id": "PpRAJHrtVO9o",
        "colab": {}
      },
      "source": [
        "# ConvNet(\n",
        "# (conv1): Conv2d(3, 6, kernel_size=(5, 5), stride=(1, 1))\n",
        "# (pool): MaxPool2d(kernel_size=2, stride=2, padding=0, dilation=1, ceil_mode=False)\n",
        "# (conv2): Conv2d(6, 16, kernel_size=(5, 5), stride=(1, 1))\n",
        "# (fc1): Linear(in_features=400, out_features=120, bias=True)\n",
        "# (fc2): Linear(in_features=120, out_features=84, bias=True)\n",
        "# (fc3): Linear(in_features=84, out_features=10, bias=True)\n",
        "# )\n",
        "# Define a Convolutional Neural Network\n",
        "class MyNet(nn.Module):\n",
        "    def __init__(self):\n",
        "        super(MyNet, self).__init__()\n",
        "        # TODO Task 3 & 4: Design Your Network I & II \n",
        "        self.conv1 = nn.Conv2d(3,6,3,padding =1)\n",
        "        self.pool = nn.MaxPool2d(kernel_size=2, stride=2)\n",
        "        self.conv2 = nn.Conv2d(6,16,5, padding =2)\n",
        "        self.conv3 =nn.Conv2d(16, 36, 7, padding =3)\n",
        "        self.conv4 =nn.Conv2d(36, 60, 3)\n",
        "        self.conv5 = nn.Conv2d(60, 80, 5)\n",
        "        \n",
        "        self.fc1=nn.Linear(2000,120)\n",
        "        self.fc2=nn.Linear(120,84)\n",
        "        self.fc3=nn.Linear(84,10)\n",
        "        \n",
        "    def forward(self, x):\n",
        "        # TODO Task 3 & 4: Design Your Network I & II\n",
        "        \n",
        "        x=self.pool(F.relu(self.conv1(x)))\n",
        "        #x=F.max_pool2d(x,2)\n",
        "        x=F.relu(self.conv2(x))\n",
        "        x=F.relu(self.conv3(x))\n",
        "        #x=self.pool(F.relu(self.conv4(x)))\n",
        "        x=F.relu(self.conv4(x))\n",
        "        x=self.pool(F.relu(self.conv5(x)))\n",
        "        x=x.view(-1,2000)\n",
        "        x=F.relu(self.fc1(x))\n",
        "        x=F.relu(self.fc2(x))\n",
        "        x=self.fc3(x)\n",
        "        return x"
      ],
      "execution_count": null,
      "outputs": []
    },
    {
      "cell_type": "code",
      "metadata": {
        "id": "5OBmcnul3Sil",
        "colab_type": "code",
        "colab": {}
      },
      "source": [
        "# Define a Convolutional Neural Network\n",
        "\n",
        "class MyNet(nn.Module):\n",
        "    def __init__(self):\n",
        "        super(MyNet, self).__init__()\n",
        "        # TODO Task 3 & 4: Design Your Network I & II \n",
        "        self.conv1 = nn.Conv2d(3,6,3,padding =1)\n",
        "        self.pool = nn.MaxPool2d(kernel_size=2, stride=2)\n",
        "        self.conv2 = nn.Conv2d(6,16,5, padding =2)\n",
        "        self.conv3 =nn.Conv2d(16, 36, 7, padding =3)\n",
        "        self.batchnorm1=nn.BatchNorm2d(36)\n",
        "        self.conv4 =nn.Conv2d(36, 60, 5)\n",
        "        self.conv5 = nn.Conv2d(60, 100, 3)\n",
        "        self.batchnorm2=nn.BatchNorm2d(100)\n",
        "        self.dropout = nn.Dropout(p=0.5, inplace=True)\n",
        "        self.fc1=nn.Linear(2500,200)\n",
        "        self.fc2=nn.Linear(200,10)\n",
        "        \n",
        "    def forward(self, x):\n",
        "        # TODO Task 3 & 4: Design Your Network I & II\n",
        "        \n",
        "        x=self.pool(F.relu(self.conv1(x)))\n",
        "        #x=F.max_pool2d(x,2)\n",
        "        x=F.relu(self.conv2(x))\n",
        "        x=F.relu(self.batchnorm1(self.conv3(x)))\n",
        "        #x=self.pool(F.relu(self.conv4(x)))\n",
        "        x=F.relu(self.conv4(x))\n",
        "        x=self.pool(self.batchnorm2(F.relu(self.conv5(x))))\n",
        "        x=x.view(-1,2500)\n",
        "        x=F.relu(self.fc1(self.dropout(x)))\n",
        "        x=self.fc2(x)\n",
        "        return x"
      ],
      "execution_count": null,
      "outputs": []
    },
    {
      "cell_type": "code",
      "metadata": {
        "id": "eihIf0Yl3Sin",
        "colab_type": "code",
        "colab": {}
      },
      "source": [
        "def train_model(model, criterion, optimizer, num_epochs=25, save_path='saved_weight.pth'):\n",
        "    since = time.time()\n",
        "\n",
        "    for epoch in range(num_epochs):\n",
        "        print('Epoch {}/{}'.format(epoch, num_epochs - 1))\n",
        "        print('-' * 10)\n",
        "\n",
        "        # Each epoch has a training and validation phase\n",
        "        for phase in ['train']:\n",
        "            if phase == 'train': model.train()  # Set model to training mode\n",
        "\n",
        "            running_loss = 0.0\n",
        "            running_corrects = 0\n",
        "\n",
        "            # Iterate over data.\n",
        "            for inputs, labels in dataloaders[phase]:\n",
        "                inputs = inputs.to(device)\n",
        "                labels = labels.to(device)\n",
        "\n",
        "                # zero the parameter gradients\n",
        "                optimizer.zero_grad()\n",
        "\n",
        "                # forward\n",
        "                # track history if only in train\n",
        "                with torch.set_grad_enabled(phase == 'train'):\n",
        "                    outputs = model(inputs)\n",
        "                    _, preds = torch.max(outputs, 1)\n",
        "                    loss = criterion(outputs, labels)\n",
        "\n",
        "                    # backward + optimize only if in training phase\n",
        "                    if phase == 'train':\n",
        "                        loss.backward()\n",
        "                        optimizer.step()\n",
        "\n",
        "                # statistics\n",
        "                running_loss += loss.item() * inputs.size(0)\n",
        "                running_corrects += torch.sum(preds == labels.data)\n",
        "\n",
        "            epoch_loss = running_loss / dataset_sizes[phase]\n",
        "            epoch_acc = running_corrects.double() / dataset_sizes[phase]\n",
        "\n",
        "            print('{} Loss: {:.4f} Acc: {:.4f}'.format(phase, epoch_loss, epoch_acc))\n",
        "    print()\n",
        "\n",
        "    time_elapsed = time.time() - since\n",
        "    print('Training complete in {:.0f}m {:.0f}s'.format(time_elapsed // 60, time_elapsed % 60))\n",
        "\n",
        "    torch.save(model.state_dict(), save_path)\n",
        "    return model"
      ],
      "execution_count": null,
      "outputs": []
    },
    {
      "cell_type": "code",
      "metadata": {
        "colab_type": "code",
        "id": "77S-thkZVO9q",
        "colab": {
          "base_uri": "https://localhost:8080/",
          "height": 426
        },
        "outputId": "7e52e06e-b7a2-431c-f856-9cccc63d2961"
      },
      "source": [
        "model_ft = MyNet()\n",
        "model_ft = model_ft.to(device)\n",
        "\n",
        "\n",
        "# TODO:  Define loss criterion - cross entropy loss\n",
        "criterion=nn.CrossEntropyLoss()\n",
        "# TODO Task 5: The Optimizer\n",
        "optimizer=optim.SGD(model_ft.parameters(),lr=0.001,momentum=0.9)\n",
        "## Train and evaluate\n",
        "train_model(model_ft,criterion,optimizer)\n",
        "\n",
        "test_model((model_ft))\n"
      ],
      "execution_count": null,
      "outputs": [
        {
          "output_type": "stream",
          "text": [
            "Epoch 0/24\n",
            "----------\n"
          ],
          "name": "stdout"
        },
        {
          "output_type": "error",
          "ename": "KeyboardInterrupt",
          "evalue": "ignored",
          "traceback": [
            "\u001b[0;31m---------------------------------------------------------------------------\u001b[0m",
            "\u001b[0;31mKeyboardInterrupt\u001b[0m                         Traceback (most recent call last)",
            "\u001b[0;32m<ipython-input-9-b9592147ed00>\u001b[0m in \u001b[0;36m<module>\u001b[0;34m()\u001b[0m\n\u001b[1;32m      8\u001b[0m \u001b[0moptimizer\u001b[0m\u001b[0;34m=\u001b[0m\u001b[0moptim\u001b[0m\u001b[0;34m.\u001b[0m\u001b[0mSGD\u001b[0m\u001b[0;34m(\u001b[0m\u001b[0mmodel_ft\u001b[0m\u001b[0;34m.\u001b[0m\u001b[0mparameters\u001b[0m\u001b[0;34m(\u001b[0m\u001b[0;34m)\u001b[0m\u001b[0;34m,\u001b[0m\u001b[0mlr\u001b[0m\u001b[0;34m=\u001b[0m\u001b[0;36m0.001\u001b[0m\u001b[0;34m,\u001b[0m\u001b[0mmomentum\u001b[0m\u001b[0;34m=\u001b[0m\u001b[0;36m0.9\u001b[0m\u001b[0;34m)\u001b[0m\u001b[0;34m\u001b[0m\u001b[0;34m\u001b[0m\u001b[0m\n\u001b[1;32m      9\u001b[0m \u001b[0;31m## Train and evaluate\u001b[0m\u001b[0;34m\u001b[0m\u001b[0;34m\u001b[0m\u001b[0;34m\u001b[0m\u001b[0m\n\u001b[0;32m---> 10\u001b[0;31m \u001b[0mtrain_model\u001b[0m\u001b[0;34m(\u001b[0m\u001b[0mmodel_ft\u001b[0m\u001b[0;34m,\u001b[0m\u001b[0mcriterion\u001b[0m\u001b[0;34m,\u001b[0m\u001b[0moptimizer\u001b[0m\u001b[0;34m)\u001b[0m\u001b[0;34m\u001b[0m\u001b[0;34m\u001b[0m\u001b[0m\n\u001b[0m\u001b[1;32m     11\u001b[0m \u001b[0;34m\u001b[0m\u001b[0m\n\u001b[1;32m     12\u001b[0m \u001b[0mtest_model\u001b[0m\u001b[0;34m(\u001b[0m\u001b[0;34m(\u001b[0m\u001b[0mmodel_ft\u001b[0m\u001b[0;34m)\u001b[0m\u001b[0;34m)\u001b[0m\u001b[0;34m\u001b[0m\u001b[0;34m\u001b[0m\u001b[0m\n",
            "\u001b[0;32m<ipython-input-3-49b0cb3a70c5>\u001b[0m in \u001b[0;36mtrain_model\u001b[0;34m(model, criterion, optimizer, num_epochs, save_path)\u001b[0m\n\u001b[1;32m     30\u001b[0m                     \u001b[0;31m# backward + optimize only if in training phase\u001b[0m\u001b[0;34m\u001b[0m\u001b[0;34m\u001b[0m\u001b[0;34m\u001b[0m\u001b[0m\n\u001b[1;32m     31\u001b[0m                     \u001b[0;32mif\u001b[0m \u001b[0mphase\u001b[0m \u001b[0;34m==\u001b[0m \u001b[0;34m'train'\u001b[0m\u001b[0;34m:\u001b[0m\u001b[0;34m\u001b[0m\u001b[0;34m\u001b[0m\u001b[0m\n\u001b[0;32m---> 32\u001b[0;31m                         \u001b[0mloss\u001b[0m\u001b[0;34m.\u001b[0m\u001b[0mbackward\u001b[0m\u001b[0;34m(\u001b[0m\u001b[0;34m)\u001b[0m\u001b[0;34m\u001b[0m\u001b[0;34m\u001b[0m\u001b[0m\n\u001b[0m\u001b[1;32m     33\u001b[0m                         \u001b[0moptimizer\u001b[0m\u001b[0;34m.\u001b[0m\u001b[0mstep\u001b[0m\u001b[0;34m(\u001b[0m\u001b[0;34m)\u001b[0m\u001b[0;34m\u001b[0m\u001b[0;34m\u001b[0m\u001b[0m\n\u001b[1;32m     34\u001b[0m \u001b[0;34m\u001b[0m\u001b[0m\n",
            "\u001b[0;32m/usr/local/lib/python3.6/dist-packages/torch/tensor.py\u001b[0m in \u001b[0;36mbackward\u001b[0;34m(self, gradient, retain_graph, create_graph)\u001b[0m\n\u001b[1;32m    183\u001b[0m                 \u001b[0mproducts\u001b[0m\u001b[0;34m.\u001b[0m \u001b[0mDefaults\u001b[0m \u001b[0mto\u001b[0m\u001b[0;31m \u001b[0m\u001b[0;31m`\u001b[0m\u001b[0;31m`\u001b[0m\u001b[0;32mFalse\u001b[0m\u001b[0;31m`\u001b[0m\u001b[0;31m`\u001b[0m\u001b[0;34m.\u001b[0m\u001b[0;34m\u001b[0m\u001b[0;34m\u001b[0m\u001b[0m\n\u001b[1;32m    184\u001b[0m         \"\"\"\n\u001b[0;32m--> 185\u001b[0;31m         \u001b[0mtorch\u001b[0m\u001b[0;34m.\u001b[0m\u001b[0mautograd\u001b[0m\u001b[0;34m.\u001b[0m\u001b[0mbackward\u001b[0m\u001b[0;34m(\u001b[0m\u001b[0mself\u001b[0m\u001b[0;34m,\u001b[0m \u001b[0mgradient\u001b[0m\u001b[0;34m,\u001b[0m \u001b[0mretain_graph\u001b[0m\u001b[0;34m,\u001b[0m \u001b[0mcreate_graph\u001b[0m\u001b[0;34m)\u001b[0m\u001b[0;34m\u001b[0m\u001b[0;34m\u001b[0m\u001b[0m\n\u001b[0m\u001b[1;32m    186\u001b[0m \u001b[0;34m\u001b[0m\u001b[0m\n\u001b[1;32m    187\u001b[0m     \u001b[0;32mdef\u001b[0m \u001b[0mregister_hook\u001b[0m\u001b[0;34m(\u001b[0m\u001b[0mself\u001b[0m\u001b[0;34m,\u001b[0m \u001b[0mhook\u001b[0m\u001b[0;34m)\u001b[0m\u001b[0;34m:\u001b[0m\u001b[0;34m\u001b[0m\u001b[0;34m\u001b[0m\u001b[0m\n",
            "\u001b[0;32m/usr/local/lib/python3.6/dist-packages/torch/autograd/__init__.py\u001b[0m in \u001b[0;36mbackward\u001b[0;34m(tensors, grad_tensors, retain_graph, create_graph, grad_variables)\u001b[0m\n\u001b[1;32m    125\u001b[0m     Variable._execution_engine.run_backward(\n\u001b[1;32m    126\u001b[0m         \u001b[0mtensors\u001b[0m\u001b[0;34m,\u001b[0m \u001b[0mgrad_tensors\u001b[0m\u001b[0;34m,\u001b[0m \u001b[0mretain_graph\u001b[0m\u001b[0;34m,\u001b[0m \u001b[0mcreate_graph\u001b[0m\u001b[0;34m,\u001b[0m\u001b[0;34m\u001b[0m\u001b[0;34m\u001b[0m\u001b[0m\n\u001b[0;32m--> 127\u001b[0;31m         allow_unreachable=True)  # allow_unreachable flag\n\u001b[0m\u001b[1;32m    128\u001b[0m \u001b[0;34m\u001b[0m\u001b[0m\n\u001b[1;32m    129\u001b[0m \u001b[0;34m\u001b[0m\u001b[0m\n",
            "\u001b[0;31mKeyboardInterrupt\u001b[0m: "
          ]
        }
      ]
    },
    {
      "cell_type": "code",
      "metadata": {
        "id": "jusAT2eau89M",
        "colab_type": "code",
        "colab": {
          "base_uri": "https://localhost:8080/",
          "height": 1000
        },
        "outputId": "6eed2f66-fc0c-4948-82f7-601ef182a587"
      },
      "source": [
        "model_ft = MyNet()\n",
        "model_ft = model_ft.to(device)\n",
        "\n",
        "\n",
        "# TODO:  Define loss criterion - cross entropy loss\n",
        "criterion=nn.CrossEntropyLoss()\n",
        "# TODO Task 5: The Optimizer\n",
        "optimizer=optim.SGD(model_ft.parameters(),lr=0.001,momentum=0.9)\n",
        "## Train and evaluate\n",
        "train_model(model_ft,criterion,optimizer)\n",
        "\n",
        "test_model((model_ft))\n"
      ],
      "execution_count": null,
      "outputs": [
        {
          "output_type": "stream",
          "text": [
            "Epoch 0/24\n",
            "----------\n",
            "train Loss: 1.7475 Acc: 0.3569\n",
            "Epoch 1/24\n",
            "----------\n",
            "train Loss: 1.4997 Acc: 0.4532\n",
            "Epoch 2/24\n",
            "----------\n",
            "train Loss: 1.3665 Acc: 0.5082\n",
            "Epoch 3/24\n",
            "----------\n",
            "train Loss: 1.2608 Acc: 0.5484\n",
            "Epoch 4/24\n",
            "----------\n",
            "train Loss: 1.1951 Acc: 0.5727\n",
            "Epoch 5/24\n",
            "----------\n",
            "train Loss: 1.1404 Acc: 0.5935\n",
            "Epoch 6/24\n",
            "----------\n",
            "train Loss: 1.0987 Acc: 0.6088\n",
            "Epoch 7/24\n",
            "----------\n",
            "train Loss: 1.0686 Acc: 0.6176\n",
            "Epoch 8/24\n",
            "----------\n",
            "train Loss: 1.0394 Acc: 0.6304\n",
            "Epoch 9/24\n",
            "----------\n",
            "train Loss: 1.0149 Acc: 0.6408\n",
            "Epoch 10/24\n",
            "----------\n",
            "train Loss: 0.9924 Acc: 0.6479\n",
            "Epoch 11/24\n",
            "----------\n",
            "train Loss: 0.9761 Acc: 0.6533\n",
            "Epoch 12/24\n",
            "----------\n",
            "train Loss: 0.9569 Acc: 0.6606\n",
            "Epoch 13/24\n",
            "----------\n",
            "train Loss: 0.9387 Acc: 0.6713\n",
            "Epoch 14/24\n",
            "----------\n",
            "train Loss: 0.9312 Acc: 0.6700\n",
            "Epoch 15/24\n",
            "----------\n",
            "train Loss: 0.9155 Acc: 0.6777\n",
            "Epoch 16/24\n",
            "----------\n",
            "train Loss: 0.9046 Acc: 0.6798\n",
            "Epoch 17/24\n",
            "----------\n",
            "train Loss: 0.8940 Acc: 0.6849\n",
            "Epoch 18/24\n",
            "----------\n",
            "train Loss: 0.8778 Acc: 0.6903\n",
            "Epoch 19/24\n",
            "----------\n",
            "train Loss: 0.8695 Acc: 0.6950\n",
            "Epoch 20/24\n",
            "----------\n",
            "train Loss: 0.8536 Acc: 0.6982\n",
            "Epoch 21/24\n",
            "----------\n",
            "train Loss: 0.8470 Acc: 0.7033\n",
            "Epoch 22/24\n",
            "----------\n",
            "train Loss: 0.8396 Acc: 0.7052\n",
            "Epoch 23/24\n",
            "----------\n",
            "train Loss: 0.8308 Acc: 0.7074\n",
            "Epoch 24/24\n",
            "----------\n",
            "train Loss: 0.8225 Acc: 0.7111\n",
            "\n",
            "Training complete in 31m 33s\n",
            "test Acc: 0.7151\n",
            "Testing complete in 0m 8s\n"
          ],
          "name": "stdout"
        }
      ]
    },
    {
      "cell_type": "markdown",
      "metadata": {
        "id": "nrMQv_pA3Sis",
        "colab_type": "text"
      },
      "source": [
        "### Display model predictions"
      ]
    },
    {
      "cell_type": "code",
      "metadata": {
        "id": "gae6g2Eq3Sit",
        "colab_type": "code",
        "colab": {}
      },
      "source": [
        "## Display model predictions\n",
        "## Generic function to display predictions for a few images\n",
        "\n",
        "def display_predictions(model, num_images=6):\n",
        "    was_training = model.training\n",
        "    model.eval()\n",
        "    images_so_far = 0\n",
        "    fig = plt.figure()\n",
        "\n",
        "    with torch.no_grad():\n",
        "        for i, (inputs, labels) in enumerate(dataloaders['test']):\n",
        "            inputs = inputs.to(device)\n",
        "            labels = labels.to(device)\n",
        "\n",
        "            outputs = model(inputs)\n",
        "            _, preds = torch.max(outputs, 1)\n",
        "\n",
        "            for j in range(inputs.size()[0]):\n",
        "                images_so_far += 1\n",
        "                ax = plt.subplot(num_images//2, 2, images_so_far)\n",
        "                ax.axis('off')\n",
        "                ax.set_title('predicted: {}'.format(class_names[preds[j]]))\n",
        "                imshow(inputs.cpu().data[j])\n",
        "\n",
        "                if images_so_far == num_images:\n",
        "                    model.train(mode=was_training)\n",
        "                    return\n",
        "        model.train(mode=was_training)"
      ],
      "execution_count": null,
      "outputs": []
    },
    {
      "cell_type": "code",
      "metadata": {
        "id": "Klw4t-7R3Siv",
        "colab_type": "code",
        "colab": {}
      },
      "source": [
        "# TODO Diplay your best model predictions"
      ],
      "execution_count": null,
      "outputs": []
    },
    {
      "cell_type": "markdown",
      "metadata": {
        "colab_type": "text",
        "id": "E-A_mLSoVO9O"
      },
      "source": [
        "## Task 6: Visualization (10 points)\n",
        "Visualize feature maps of the first and the last convolutional layer of your final network using **cifar_example.jpg** as input image. Show the visualization in the report.\n",
        "\n",
        "#### First layer activations\n",
        "<img src=\"https://i.imgur.com/kGB9AuP.png\" width=\"400\" align=\"left\">"
      ]
    },
    {
      "cell_type": "markdown",
      "metadata": {
        "colab_type": "text",
        "id": "TsbbsIGKVO9P"
      },
      "source": [
        "#### Last layer activations\n",
        "\n",
        "<img src=\"https://i.imgur.com/qelH05X.png\" width=\"400\" align=\"left\">"
      ]
    },
    {
      "cell_type": "code",
      "metadata": {
        "colab_type": "code",
        "id": "IhQxWX8RVO91",
        "colab": {}
      },
      "source": [
        "#Task 6: Visualization"
      ],
      "execution_count": null,
      "outputs": []
    },
    {
      "cell_type": "code",
      "metadata": {
        "colab_type": "code",
        "id": "gNX3eVEyVO94",
        "colab": {}
      },
      "source": [
        "def transfer_single_img_to_tensor(img_path):\n",
        "    im = Image.open(img_path)\n",
        "    img = np.asarray(im)/255\n",
        "    mean = np.array([0.5, 0.5, 0.5])\n",
        "    std = np.array([0.5, 0.5, 0.5])\n",
        "    \n",
        "    inp = (img - mean) / std\n",
        "    inp = np.asarray(inp, dtype=np.float32)\n",
        "    inp = inp.transpose((2, 0, 1))\n",
        "    inp = np.expand_dims(inp, axis=0)\n",
        "    inp = torch.from_numpy(inp, )\n",
        "    inputs = inp.to(device)\n",
        "    return inputs"
      ],
      "execution_count": null,
      "outputs": []
    },
    {
      "cell_type": "code",
      "metadata": {
        "colab_type": "code",
        "id": "m4Qy8s4BVO9_",
        "colab": {}
      },
      "source": [
        "def feature_imshow(inp, title=None):\n",
        "    \"\"\"Imshow for Tensor.\"\"\"\n",
        "    inp = inp.detach().numpy().transpose((1, 2, 0))\n",
        "    mean = np.array([0.5, 0.5, 0.5])\n",
        "    std = np.array([0.5, 0.5, 0.5])\n",
        "    inp = std * inp + mean\n",
        "    inp = np.clip(inp, 0, 1)\n",
        "    plt.imshow(inp)\n",
        "    if title is not None:\n",
        "        plt.title(title)\n",
        "    plt.pause(0.001)  # pause a bit so that plots are updated"
      ],
      "execution_count": null,
      "outputs": []
    },
    {
      "cell_type": "code",
      "metadata": {
        "colab_type": "code",
        "id": "L0AqVUu9VO97",
        "colab": {
          "base_uri": "https://localhost:8080/",
          "height": 130
        },
        "outputId": "4eaeafbb-60fe-4a8c-fe44-6359fff7a82d"
      },
      "source": [
        "inputs = transfer_single_img_to_tensor('example_imgs/cifar_example.jpg') # Loads an image and normalizes it\n",
        "model_ft.eval()\n",
        "with torch.no_grad():\n",
        "   # TODO: Retrive the first and the last layer feature maps of your best model. (Hint: Move back to CPU)"
      ],
      "execution_count": null,
      "outputs": [
        {
          "output_type": "error",
          "ename": "SyntaxError",
          "evalue": "ignored",
          "traceback": [
            "\u001b[0;36m  File \u001b[0;32m\"<ipython-input-15-95c3c93a411a>\"\u001b[0;36m, line \u001b[0;32m4\u001b[0m\n\u001b[0;31m    # TODO: Retrive the first and the last layer feature maps of your best model. (Hint: Move back to CPU)\u001b[0m\n\u001b[0m                                                                                                          ^\u001b[0m\n\u001b[0;31mSyntaxError\u001b[0m\u001b[0;31m:\u001b[0m unexpected EOF while parsing\n"
          ]
        }
      ]
    },
    {
      "cell_type": "code",
      "metadata": {
        "colab_type": "code",
        "id": "2ofvGE8-VO-B",
        "colab": {
          "base_uri": "https://localhost:8080/",
          "height": 130
        },
        "outputId": "d533eef2-6dcc-44bd-bb9b-98aed99bdc78"
      },
      "source": [
        "# Visualize the feature maps\n",
        "out = torchvision.utils.make_grid(# TODO: feaure map 1)\n",
        "feature_imshow(out)"
      ],
      "execution_count": null,
      "outputs": [
        {
          "output_type": "error",
          "ename": "SyntaxError",
          "evalue": "ignored",
          "traceback": [
            "\u001b[0;36m  File \u001b[0;32m\"<ipython-input-16-332c23624178>\"\u001b[0;36m, line \u001b[0;32m3\u001b[0m\n\u001b[0;31m    feature_imshow(out)\u001b[0m\n\u001b[0m                       ^\u001b[0m\n\u001b[0;31mSyntaxError\u001b[0m\u001b[0;31m:\u001b[0m unexpected EOF while parsing\n"
          ]
        }
      ]
    },
    {
      "cell_type": "code",
      "metadata": {
        "colab_type": "code",
        "id": "0Mo1xtSzVO-E",
        "colab": {
          "base_uri": "https://localhost:8080/",
          "height": 130
        },
        "outputId": "8ed342b7-4711-4c04-c30d-e448515a7e8a"
      },
      "source": [
        "out = torchvision.utils.make_grid(# TODO: feaure map 2)\n",
        "feature_imshow(out)"
      ],
      "execution_count": null,
      "outputs": [
        {
          "output_type": "error",
          "ename": "SyntaxError",
          "evalue": "ignored",
          "traceback": [
            "\u001b[0;36m  File \u001b[0;32m\"<ipython-input-17-36f417a5617d>\"\u001b[0;36m, line \u001b[0;32m2\u001b[0m\n\u001b[0;31m    feature_imshow(out)\u001b[0m\n\u001b[0m                       ^\u001b[0m\n\u001b[0;31mSyntaxError\u001b[0m\u001b[0;31m:\u001b[0m unexpected EOF while parsing\n"
          ]
        }
      ]
    },
    {
      "cell_type": "code",
      "metadata": {
        "id": "RDneoFzyDMJA",
        "colab_type": "code",
        "colab": {}
      },
      "source": [
        ""
      ],
      "execution_count": null,
      "outputs": []
    }
  ]
}